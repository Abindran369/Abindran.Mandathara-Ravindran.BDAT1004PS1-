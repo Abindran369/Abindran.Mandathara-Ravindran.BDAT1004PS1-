{
 "cells": [
  {
   "cell_type": "markdown",
   "id": "dd108709-85fc-4759-9308-72e72eb3ad36",
   "metadata": {},
   "source": [
    "Question 6 Python\n",
    "16. You can turn a word into pig-Latin using the following two rules (simplified):\n",
    "• If the word starts with a consonant, move that letter to the end and append\n",
    "'ay'. For example, 'happy' becomes 'appyhay' and 'pencil' becomes 'encilpay'.\n"
   ]
  },
  {
   "cell_type": "code",
   "execution_count": 10,
   "id": "6b17e1fb-eb78-4617-8798-7cb7156619e5",
   "metadata": {
    "tags": []
   },
   "outputs": [
    {
     "name": "stdout",
     "output_type": "stream",
     "text": [
      "appyhay\n",
      "encilpay\n",
      "appleay\n"
     ]
    }
   ],
   "source": [
    "def pig_latin(word):\n",
    "    vowels = \"aeiouAEIOU\"\n",
    "\n",
    "    if word[0] not in vowels:\n",
    "        # If the word starts with a consonant\n",
    "        # Move the first letter to the end and append 'ay'\n",
    "        return word[1:] + word[0] + 'ay'\n",
    "    else:\n",
    "        # If the word starts with a vowel, simply append 'ay'\n",
    "        return word + 'ay'\n",
    "\n",
    "# Examples\n",
    "print(pig_latin('happy'))   # Output: 'appyhay'\n",
    "print(pig_latin('pencil'))  # Output: 'encilpay'\n",
    "print(pig_latin('apple'))   # Output: 'appleay'\n"
   ]
  },
  {
   "cell_type": "markdown",
   "id": "ac332fa0-57a9-4150-a68f-208c537eddad",
   "metadata": {},
   "source": [
    "• If the word starts with a vowel, simply append 'way' to the end of the word.\n",
    "For example, 'enter' becomes 'enterway' and 'other' becomes 'otherway' . For\n",
    "our purposes, there are 5 vowels: a, e, i, o, u (so we count y as a consonant).\n",
    "Write a function pig() that takes a word (i.e., a string) as input and returns its pigLatin form. Your function should still work if the input word contains upper case\n",
    "characters. Your output should always be lower case however.\n",
    ">>> pig('happy')\n",
    "'appyhay'\n",
    ">>> pig('Enter')\n",
    "'enterway' "
   ]
  },
  {
   "cell_type": "code",
   "execution_count": 12,
   "id": "b33dd2ad-d378-42ef-953f-49c612491654",
   "metadata": {
    "tags": []
   },
   "outputs": [
    {
     "name": "stdout",
     "output_type": "stream",
     "text": [
      "appyhay\n",
      "enterway\n"
     ]
    }
   ],
   "source": [
    "def pig_latin(word):\n",
    "    vowels = \"aeiouAEIOU\"\n",
    "\n",
    "    if word[0] not in vowels:\n",
    "        # If the word starts with a consonant\n",
    "        # Move the first letter to the end and append 'ay'\n",
    "        return word[1:].lower() + word[0].lower() + 'ay'\n",
    "    else:\n",
    "        # If the word starts with a vowel, append 'way'\n",
    "        return word.lower() + 'way'\n",
    "\n",
    "# Examples\n",
    "print(pig_latin('happy'))   # Output: 'appyhay'\n",
    "print(pig_latin('Enter'))   # Output: 'enterway'\n"
   ]
  },
  {
   "cell_type": "markdown",
   "id": "ce125b61-1569-44aa-aa37-c8a4fffd8ca7",
   "metadata": {},
   "source": [
    "Question 7 Python\n",
    "File bloodtype1.txt records blood-types of patients (A, B, AB, O or OO) at a clinic.\n",
    "Write a function bldcount() that reads the file with name name and reports (i.e.,\n",
    "prints) how many patients there are in each bloodtype.\n",
    ">>> bldcount('bloodtype.txt')\n",
    "There are 10 patients of blood type A.\n",
    "There is one patient of blood type B.\n",
    "There are 10 patients of blood type AB.\n",
    "There are 12 patients of blood type O.\n",
    "There are no patients of blood type OO."
   ]
  },
  {
   "cell_type": "code",
   "execution_count": 2,
   "id": "31c97bb2-1ecb-44af-8157-b3ede186cfe2",
   "metadata": {
    "tags": []
   },
   "outputs": [
    {
     "name": "stdout",
     "output_type": "stream",
     "text": [
      "File 'bloodtype.txt' not found.\n"
     ]
    }
   ],
   "source": [
    "def bldcount(filename):\n",
    "    # Initialize a dictionary to count the number of patients for each blood type\n",
    "    blood_type_count = {'A': 0, 'B': 0, 'AB': 0, 'O': 0, 'OO': 0}\n",
    "\n",
    "    try:\n",
    "        # Open the file for reading\n",
    "        with open(filename, 'r') as file:\n",
    "            # Read each line in the file\n",
    "            for line in file:\n",
    "                # Remove leading and trailing whitespace\n",
    "                line = line.strip()\n",
    "\n",
    "                # Increment the count for the corresponding blood type\n",
    "                if line in blood_type_count:\n",
    "                    blood_type_count[line] += 1\n",
    "\n",
    "        # Print the counts for each blood type\n",
    "        for blood_type, count in blood_type_count.items():\n",
    "            if count == 1:\n",
    "                print(f\"There is one patient of blood type {blood_type}.\")\n",
    "            else:\n",
    "                print(f\"There are {count} patients of blood type {blood_type}.\")\n",
    "\n",
    "    except FileNotFoundError:\n",
    "        print(f\"File '{filename}' not found.\")\n",
    "\n",
    "# Example usage\n",
    "bldcount('bloodtype.txt')"
   ]
  },
  {
   "cell_type": "markdown",
   "id": "755d786d-2892-47d1-9a14-ec1f0a1eb886",
   "metadata": {},
   "source": [
    "Question 8 Python\n",
    "Write a function curconv() that takes as input:\n",
    "1. a currency represented using a string (e.g., 'JPY' for the Japanese Yen or\n",
    "'EUR' for the Euro)\n",
    "2. an amount\n",
    "and then converts and returns the amount in US dollars.\n",
    ">>> curconv('EUR', 100)\n",
    "122.96544\n",
    ">>> curconv('JPY', 100)\n",
    "1.241401\n",
    "The currency rates you will need are stored in file currencies.txt:\n",
    "AUD 1.0345157 Australian Dollar\n",
    "CHF 1.0237414 Swiss Franc\n",
    "CNY 0.1550176 Chinese Yuan\n",
    "DKK 0.1651442 Danish Krone\n",
    "EUR 1.2296544 Euro\n",
    "GBP 1.5550989 British Pound\n",
    "HKD 0.1270207 Hong Kong Dollar\n",
    "INR 0.0177643 Indian Rupee\n",
    "JPY 0.01241401 Japanese Yen\n",
    "MXN 0.0751848 Mexican Peso\n",
    "MYR 0.3145411 Malaysian Ringgit\n",
    "NOK 0.1677063 Norwegian Krone\n",
    "NZD 0.8003591 New Zealand Dollar\n",
    "PHP 0.0233234 Philippine Peso\n",
    "SEK 0.148269 Swedish Krona\n",
    "SGD 0.788871 Singapore Dollar\n",
    "THB 0.0313789 Thai Baht"
   ]
  },
  {
   "cell_type": "code",
   "execution_count": 17,
   "id": "b3090766-8323-4844-8ab0-0170de813808",
   "metadata": {
    "tags": []
   },
   "outputs": [
    {
     "name": "stdin",
     "output_type": "stream",
     "text": [
      "Enter the amount:  100\n",
      "Enter the currency:  EUR\n"
     ]
    },
    {
     "name": "stdout",
     "output_type": "stream",
     "text": [
      "122.97\n"
     ]
    }
   ],
   "source": [
    "def currency_converter(amount, currency):\n",
    "    conversion_rates = {'AUD': 1.0345157,'CHF': 1.0237414,'CNY': 0.1550176,'DKK': 0.1651442,\n",
    "               'EUR': 1.2296544,'GBP': 1.5550989,'HKD': 0.1270207, 'INR': 0.0177643,\n",
    "               'JPY': 0.01241401,'MXN': 0.0751848,'MYR': 0.3145411,'NOK': 0.1677063,\n",
    "               'NZD': 0.8003591,'PHP': 0.0233234,'SEK': 0.148269,'SGD': 0.788871,'THB': 0.0313789}   # Dictionary of currency rates.\n",
    "  \n",
    "    conversion_rate = conversion_rates.get(currency, None)\n",
    "    if conversion_rate is None:\n",
    "        return None\n",
    "  \n",
    "    return amount * conversion_rate\n",
    "\n",
    "try:\n",
    "    amount = float(input(\"Enter the amount: \"))\n",
    "    currency = input(\"Enter the currency: \").upper()  # Convert input currency to uppercase for consistency\n",
    "    usd = currency_converter(amount, currency)\n",
    "    if usd is None:\n",
    "        print(\"Invalid currency\")\n",
    "    else:\n",
    "        print(\"{0:.2f}\".format(usd))  # Print the converted amount, not the original amount\n",
    "except ValueError:\n",
    "    print(\"Invalid input. Please enter a valid numeric amount.\")\n"
   ]
  },
  {
   "cell_type": "markdown",
   "id": "7d5964d2-0d2c-408c-b883-bb434182b0f1",
   "metadata": {},
   "source": [
    "Question 9 Python\n",
    "Each of the following will cause an exception (an error). Identify what type of\n",
    "exception each will cause.\n",
    "Trying to add incompatible variables, as in\n",
    "adding 6 + ‘a’\n",
    "Referring to the 12th item of a list that has only 10\n",
    "items\n",
    "Using a value that is out of range for a function’s\n",
    "input, such as calling math.sqrt(-1.0)\n",
    "Using an undeclared variable, such as print(x)\n",
    "when x has not been defined\n",
    "Trying to open a file that does not exist, such as\n",
    "mistyping the file name or looking in the wrong\n",
    "directory"
   ]
  },
  {
   "cell_type": "code",
   "execution_count": 8,
   "id": "a6c82293-0720-4047-ab09-5c425ea29239",
   "metadata": {
    "tags": []
   },
   "outputs": [
    {
     "name": "stdout",
     "output_type": "stream",
     "text": [
      "Scenario 1: unsupported operand type(s) for +: 'int' and 'str'\n",
      "Scenario 2: list index out of range\n",
      "Scenario 3: math domain error\n",
      "Scenario 4: name 'x' is not defined\n",
      "Scenario 5: [Errno 2] No such file or directory: 'non_existent_file.txt'\n"
     ]
    }
   ],
   "source": [
    "import math  # Import math module for the last scenario\n",
    "\n",
    "# Scenario 1: Trying to add incompatible variables\n",
    "try:\n",
    "    result = 6 + 'a'\n",
    "except TypeError as e:\n",
    "    print(f\"Scenario 1: {e}\")\n",
    "\n",
    "# Scenario 2: Referring to an out-of-range item in a list\n",
    "try:\n",
    "    my_list = [1, 2, 3, 4, 5, 6, 7, 8, 9, 10]\n",
    "    item = my_list[12]\n",
    "except IndexError as e:\n",
    "    print(f\"Scenario 2: {e}\")\n",
    "\n",
    "# Scenario 3: Using a value that is out of range for a function's input\n",
    "try:\n",
    "    result = math.sqrt(-1.0)\n",
    "except ValueError as e:\n",
    "    print(f\"Scenario 3: {e}\")\n",
    "\n",
    "# Scenario 4: Using an undeclared variable\n",
    "try:\n",
    "    print(x)\n",
    "except NameError as e:\n",
    "    print(f\"Scenario 4: {e}\")\n",
    "\n",
    "# Scenario 5: Trying to open a file that does not exist\n",
    "try:\n",
    "    with open('non_existent_file.txt', 'r') as file:\n",
    "        content = file.read()\n",
    "except FileNotFoundError as e:\n",
    "    print(f\"Scenario 5: {e}\")\n"
   ]
  },
  {
   "cell_type": "markdown",
   "id": "4f099807-a8b3-4bcf-a5de-23a525d7cfb4",
   "metadata": {},
   "source": [
    "Question 10 Python\n",
    "Encryption is the process of hiding the meaning of a text by substituting letters in the\n",
    "message with other letters, according to some system. If the process is successful, no\n",
    "one but the intended recipient can understand the encrypted message. Cryptanalysis\n",
    "refers to attempts to undo the encryption, even if some details of the encryption are\n",
    "unknown (for example, if an encrypted message has been intercepted). The first step\n",
    "of cryptanalysis is often to build up a table of letter frequencies in the encrypted text.\n",
    "Assume that the string letters is already defined as\n",
    "'abcdefghijklmnopqrstuvwxyz'. Write a function called frequencies()\n",
    "that takes a string as its only parameter, and returns a list of integers, showing the\n",
    "number of times each character appears in the text. Your function may ignore any\n",
    "characters that are not in letters.\n",
    ">>> frequencies('The quick red fox got bored and went home.')\n",
    "[1, 1, 1, 3, 5, 1, 1, 2, 1, 0, 1, 0, 1, 2, 4, 0, 1, 2, 0, 2,\n",
    "1, 0, 1, 1, 0, 0]\n",
    ">>> frequencies('apple')"
   ]
  },
  {
   "cell_type": "code",
   "execution_count": 9,
   "id": "19b7439e-75ca-40cd-84c8-a6a5e8c77177",
   "metadata": {
    "tags": []
   },
   "outputs": [
    {
     "name": "stdout",
     "output_type": "stream",
     "text": [
      "[1, 1, 1, 3, 5, 1, 1, 2, 1, 0, 1, 0, 1, 2, 4, 0, 1, 2, 0, 3, 1, 0, 1, 1, 0, 0]\n",
      "[1, 0, 0, 0, 1, 0, 0, 0, 0, 0, 0, 1, 0, 0, 0, 2, 0, 0, 0, 0, 0, 0, 0, 0, 0, 0]\n"
     ]
    }
   ],
   "source": [
    "def frequencies(text):\n",
    "    # Define the list to store the frequencies of each character\n",
    "    letter_frequencies = [0] * 26\n",
    "\n",
    "    # Define the set of valid letters\n",
    "    letters = 'abcdefghijklmnopqrstuvwxyz'\n",
    "\n",
    "    # Convert the input text to lowercase to make it case-insensitive\n",
    "    text = text.lower()\n",
    "\n",
    "    for char in text:\n",
    "        if char in letters:\n",
    "            # Calculate the index of the character in the letter string and increment its frequency\n",
    "            index = letters.index(char)\n",
    "            letter_frequencies[index] += 1\n",
    "\n",
    "    return letter_frequencies\n",
    "\n",
    "# Test the function with the provided examples\n",
    "result1 = frequencies('The quick red fox got bored and went home.')\n",
    "print(result1)  # Output: [1, 1, 1, 3, 5, 1, 1, 2, 1, 0, 1, 0, 1, 2, 4, 0, 1, 2, 0, 2, 1, 0, 1, 1, 0, 0]\n",
    "\n",
    "result2 = frequencies('apple')\n",
    "print(result2)  # Output: [1, 0, 0, 0, 1, 0, 0, 0, 0, 0, 0, 1, 0, 0, 0, 2, 0, 0, 0, 0, 0, 0, 0, 0, 0, 0]\n"
   ]
  },
  {
   "cell_type": "code",
   "execution_count": null,
   "id": "11e8ad2c-eccc-4086-b872-d9e7628c9155",
   "metadata": {},
   "outputs": [],
   "source": []
  }
 ],
 "metadata": {
  "kernelspec": {
   "display_name": "Python 3 (ipykernel)",
   "language": "python",
   "name": "python3"
  },
  "language_info": {
   "codemirror_mode": {
    "name": "ipython",
    "version": 3
   },
   "file_extension": ".py",
   "mimetype": "text/x-python",
   "name": "python",
   "nbconvert_exporter": "python",
   "pygments_lexer": "ipython3",
   "version": "3.11.5"
  }
 },
 "nbformat": 4,
 "nbformat_minor": 5
}
