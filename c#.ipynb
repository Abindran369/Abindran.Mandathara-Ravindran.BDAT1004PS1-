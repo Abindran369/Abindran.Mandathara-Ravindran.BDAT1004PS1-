{
 "cells": [
  {
   "cell_type": "markdown",
   "id": "c38440d5-e76d-4290-8f73-5ae02d94f94d",
   "metadata": {},
   "source": [
    "Question 1 C#\n",
    "What data type is each of the following?\n",
    "5 - int\n",
    "5.0 - double\n",
    "5 > 1 - bool\n",
    "'5' - char\n",
    "5 * 2 - int\n",
    "'5' * 2 - string\n",
    "'5' + '2' - string\n",
    "5 / 2 - double\n",
    "5 % 2 - int\n",
    "{5, 2, 1} - List \n",
    "5 == 3 - bool\n",
    "Pi (the number) - double\n"
   ]
  },
  {
   "cell_type": "markdown",
   "id": "d736f7b3-7fbb-49b1-a36b-748c335ce4dc",
   "metadata": {},
   "source": [
    "Question 2 C#\n",
    "a. How many letters are there in 'Supercalifragilisticexpialidocious'?"
   ]
  },
  {
   "cell_type": "code",
   "execution_count": 28,
   "id": "c17579b2-a645-4ab9-b406-4efede4af149",
   "metadata": {
    "tags": []
   },
   "outputs": [
    {
     "name": "stdout",
     "output_type": "stream",
     "text": [
      "Number letters in the given word: 34\n"
     ]
    }
   ],
   "source": [
    "String s= \"Supercalifragilisticexpialidocious\";\n",
    "Console.WriteLine(\"Number letters in the given word: \"+ s.Length);"
   ]
  },
  {
   "cell_type": "markdown",
   "id": "0822ea08-cbc3-43b7-b7d4-7cade4d7666e",
   "metadata": {},
   "source": [
    "b. Does 'Supercalifragilisticexpialidocious' contain 'ice' as a substring? "
   ]
  },
  {
   "cell_type": "code",
   "execution_count": 29,
   "id": "45f4138b-9f29-4e8c-9ec4-c61b39bcbe34",
   "metadata": {
    "tags": []
   },
   "outputs": [
    {
     "name": "stdout",
     "output_type": "stream",
     "text": [
      "'Supercalifragilisticexpialidocious' consist of the substring 'ice'.\n"
     ]
    }
   ],
   "source": [
    "string word = \"Supercalifragilisticexpialidocious\";\n",
    "        string substringToSearch = \"ice\";\n",
    "        \n",
    "        bool containsSubstring = word.Contains(substringToSearch);\n",
    "\n",
    "        if (containsSubstring)\n",
    "        {\n",
    "            Console.WriteLine($\"'{word}' consist of the substring '{substringToSearch}'.\");\n",
    "        }\n",
    "        else\n",
    "        {\n",
    "            Console.WriteLine($\"'{word}' did not consist of the substring '{substringToSearch}'.\");\n",
    "        }"
   ]
  },
  {
   "cell_type": "markdown",
   "id": "720ef94a-d7a8-4376-a736-4b077e1429f4",
   "metadata": {},
   "source": [
    "c. Which of the following words is the longest:\n",
    "Supercalifragilisticexpialidocious, Honorificabilitudinitatibus, or\n",
    "Bababadalgharaghtakamminarronnkonn? "
   ]
  },
  {
   "cell_type": "code",
   "execution_count": 30,
   "id": "c38f5f6d-1ecc-42b9-8256-740a62118725",
   "metadata": {
    "tags": []
   },
   "outputs": [
    {
     "name": "stdout",
     "output_type": "stream",
     "text": [
      "The largest word is: Supercalifragilisticexpialidocious\n"
     ]
    }
   ],
   "source": [
    "        string word1 = \"Supercalifragilisticexpialidocious\";\n",
    "        string word2 = \"Honorificabilitudinitatibus\";\n",
    "        string word3 = \"Bababadalgharaghtakamminarronnkonn\";\n",
    "\n",
    "        string largestWord = FindLargestWord(word1, word2, word3);\n",
    "\n",
    "        Console.WriteLine($\"The largest word is: {largestWord}\");\n",
    "\n",
    "    static string FindLargestWord(params string[] words)\n",
    "    {\n",
    "        string largestWord = \"\";\n",
    "\n",
    "        foreach (string word in words)\n",
    "        {\n",
    "            if (word.Length > largestWord.Length)\n",
    "            {\n",
    "                largestWord = word;\n",
    "            }\n",
    "        }\n",
    "\n",
    "        return largestWord;\n",
    "    }"
   ]
  },
  {
   "cell_type": "markdown",
   "id": "839bbca3-6296-420a-9452-c25e447aefd5",
   "metadata": {},
   "source": [
    "d. Which composer comes first in the dictionary: 'Berlioz', 'Borodin', 'Brian',\n",
    "'Bartok', 'Bellini', 'Buxtehude', 'Bernstein'. Which one comes last?"
   ]
  },
  {
   "cell_type": "code",
   "execution_count": 32,
   "id": "5e2d584f-e894-47d6-ac6a-5e19115376af",
   "metadata": {
    "tags": []
   },
   "outputs": [
    {
     "name": "stdout",
     "output_type": "stream",
     "text": [
      "The composer that comes first in the dictionary is: Bartok\n",
      "The composer that comes last in the dictionary is: Buxtehude\n"
     ]
    }
   ],
   "source": [
    "\n",
    "        List<string> composers = new List<string>\n",
    "        {\n",
    "            \"Berlioz\", \"Borodin\", \"Brian\", \"Bartok\", \"Bellini\", \"Buxtehude\", \"Bernstein\"\n",
    "        };\n",
    "        \n",
    "        composers.Sort();\n",
    "        string firstComposer = composers[0];\n",
    "        string lastComposer = composers[composers.Count - 1];\n",
    "        \n",
    "        Console.WriteLine(\"The composer that comes first in the dictionary is: \" + firstComposer);\n",
    "        Console.WriteLine(\"The composer that comes last in the dictionary is: \" + lastComposer);\n",
    "    \n",
    "\n"
   ]
  },
  {
   "cell_type": "markdown",
   "id": "7a886d1f-1de9-4131-b182-02bdc4128828",
   "metadata": {},
   "source": [
    "Question 3 C#\n",
    "Implement function triangleArea(a,b,c) that takes as input the lengths of the 3\n",
    "sides of a triangle and returns the area of the triangle. By Heron's formula, the area\n",
    "of a triangle with side lengths a, b, and c is\n",
    "s(s - a)(s -b)(s -c)\n",
    ", where\n",
    "s = (a+b+c)/2.\n",
    ">>> triangleArea(2,2,2)\n",
    "1.7320508075688772"
   ]
  },
  {
   "cell_type": "code",
   "execution_count": 36,
   "id": "5d6fd7fe-859f-4075-97c8-5eea9ce99728",
   "metadata": {
    "tags": []
   },
   "outputs": [
    {
     "name": "stdout",
     "output_type": "stream",
     "text": [
      "1.7320508075688772\n"
     ]
    }
   ],
   "source": [
    "\n",
    "    \n",
    "        double area = triangleArea(2, 2, 2);\n",
    "        Console.WriteLine(area);\n",
    "    \n",
    "\n",
    "    static double triangleArea(double a, double b, double c)\n",
    "    {\n",
    "        // Calculate the semi-perimeter\n",
    "        double s = (a + b + c) / 2;\n",
    "\n",
    "        // Calculate the area using Heron's formula\n",
    "        double area = Math.Sqrt(s * (s - a) * (s - b) * (s - c));\n",
    "\n",
    "        return area;\n",
    "    }"
   ]
  },
  {
   "cell_type": "markdown",
   "id": "ca07face-d3e3-42a2-b8c2-abb63bcf7c69",
   "metadata": {},
   "source": [
    "Question 4 C#\n",
    "Write a program in C# Sharp to separate odd and even integers in separate arrays.\n",
    "Go to the editor\n",
    "Test Data :\n",
    "Input the number of elements to be stored in the array :5\n",
    "Input 5 elements in the array :\n",
    "element - 0 : 25\n",
    "element - 1 : 47\n",
    "element - 2 : 42\n",
    "element - 3 : 56\n",
    "element - 4 : 32\n",
    "Expected Output:\n",
    "The Even elements are:\n",
    "42 56 32\n",
    "The Odd elements are :\n",
    "25 47"
   ]
  },
  {
   "cell_type": "code",
   "execution_count": 42,
   "id": "7844425a-2ced-4c7c-ba92-9fcda706c341",
   "metadata": {
    "tags": []
   },
   "outputs": [
    {
     "name": "stdout",
     "output_type": "stream",
     "text": [
      "The Even elements are:\n",
      "42 56 32 \n",
      "The Odd elements are:\n",
      "25 47 "
     ]
    }
   ],
   "source": [
    "    \n",
    "    \n",
    "        int n = 5;\n",
    " \n",
    "        int[] inputArray= {25,47,42,56,32};\n",
    "\n",
    "        int[] evenArray = new int[n];\n",
    "        int[] oddArray = new int[n];\n",
    "\n",
    "        int evenCount = 0;\n",
    "        int oddCount = 0;\n",
    "\n",
    "        for (int i = 0; i < n; i++)\n",
    "        {\n",
    "            if (inputArray[i] % 2 == 0)\n",
    "            {\n",
    "                evenArray[evenCount] = inputArray[i];\n",
    "                evenCount++;\n",
    "            }\n",
    "            else\n",
    "            {\n",
    "                oddArray[oddCount] = inputArray[i];\n",
    "                oddCount++;\n",
    "            }\n",
    "        }\n",
    "\n",
    "        Console.WriteLine(\"The Even elements are:\");\n",
    "        for (int i = 0; i < evenCount; i++)\n",
    "        {\n",
    "            Console.Write(evenArray[i] + \" \");\n",
    "        }\n",
    "\n",
    "        Console.WriteLine(\"\\nThe Odd elements are:\");\n",
    "        for (int i = 0; i < oddCount; i++)\n",
    "        {\n",
    "            Console.Write(oddArray[i] + \" \");\n",
    "        }\n",
    "    \n"
   ]
  },
  {
   "cell_type": "code",
   "execution_count": 44,
   "id": "1aa28042-55be-47dc-b52f-1069f1c010d4",
   "metadata": {
    "tags": []
   },
   "outputs": [
    {
     "name": "stdout",
     "output_type": "stream",
     "text": [
      "True\n",
      "False\n"
     ]
    }
   ],
   "source": [
    "\n",
    "        bool result1 = inside(1, 1, 0, 0, 2, 3);\n",
    "        bool result2 = inside(-1, -1, 0, 0, 2, 3);\n",
    "\n",
    "        Console.WriteLine(result1); // Should print True\n",
    "        Console.WriteLine(result2); // Should print False\n",
    "    \n",
    "\n",
    "    static bool inside(int x, int y, int x1, int y1, int x2, int y2)\n",
    "    {\n",
    "        // Check if (x, y) lies within the rectangle defined by (x1, y1) and (x2, y2)\n",
    "        return (x >= x1 && x <= x2 && y >= y1 && y <= y2);\n",
    "    }\n"
   ]
  },
  {
   "cell_type": "markdown",
   "id": "7e84a460-ebaf-4365-a1d9-266c0161242d",
   "metadata": {},
   "source": [
    "Question 5 C#\n",
    "a. Write a function inside(x,y,x1,y1,x2,y2) that returns True or False\n",
    "depending on whether the point (x,y) lies in the rectangle with lower left\n",
    "corner (x1,y1) and upper right corner (x2,y2).\n",
    ">>> inside(1,1,0,0,2,3)\n",
    "True\n",
    ">>> inside(-1,-1,0,0,2,3)\n",
    "False"
   ]
  },
  {
   "cell_type": "markdown",
   "id": "3c82c02e-d3a2-400e-bb0f-e570ba6b88ea",
   "metadata": {},
   "source": [
    "b. Use function inside() from part a. to write an expression that tests whether\n",
    "the point (1,1) lies in both of the following rectangles: one with lower left\n",
    "corner (0.3, 0.5) and upper right corner (1.1, 0.7) and the other with lower\n",
    "left corner (0.5, 0.2) and upper right corner (1.1, 2). "
   ]
  },
  {
   "cell_type": "code",
   "execution_count": 45,
   "id": "74aa6763-1ad8-4b6d-8a19-da04585f10a4",
   "metadata": {
    "tags": []
   },
   "outputs": [
    {
     "name": "stdout",
     "output_type": "stream",
     "text": [
      "True\n",
      "False\n"
     ]
    }
   ],
   "source": [
    "\n",
    "    \n",
    "        bool result1 = inside(1, 1, 0, 0, 2, 3);\n",
    "        bool result2 = inside(-1, -1, 0, 0, 2, 3);\n",
    "\n",
    "        Console.WriteLine(result1); // Should print True\n",
    "        Console.WriteLine(result2); // Should print False\n",
    "    \n",
    "\n",
    "    static bool inside(int x, int y, int x1, int y1, int x2, int y2)\n",
    "    {\n",
    "        // Check if (x, y) lies within the rectangle defined by (x1, y1) and (x2, y2)\n",
    "        return (x >= x1 && x <= x2 && y >= y1 && y <= y2);\n",
    "    }\n"
   ]
  },
  {
   "cell_type": "code",
   "execution_count": null,
   "id": "352d5369-400d-4c7c-b4e6-6bacab03e0fa",
   "metadata": {},
   "outputs": [],
   "source": []
  }
 ],
 "metadata": {
  "kernelspec": {
   "display_name": ".NET (C#)",
   "language": "C#",
   "name": ".net-csharp"
  },
  "language_info": {
   "file_extension": ".cs",
   "mimetype": "text/x-csharp",
   "name": "C#",
   "pygments_lexer": "csharp",
   "version": "11.0"
  }
 },
 "nbformat": 4,
 "nbformat_minor": 5
}
